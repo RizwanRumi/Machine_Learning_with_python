{
 "cells": [
  {
   "cell_type": "code",
   "execution_count": 83,
   "id": "54626040",
   "metadata": {},
   "outputs": [],
   "source": [
    "import numpy as np\n",
    "import matplotlib.pyplot as plt\n",
    "%matplotlib inline"
   ]
  },
  {
   "cell_type": "code",
   "execution_count": 89,
   "id": "65052882",
   "metadata": {},
   "outputs": [],
   "source": [
    "def draw(x1, x2):\n",
    "    ln = plt.plot(x1, x2)\n",
    "    \n",
    "def sigmoid(score):\n",
    "    return 1 / (1 + np.exp(-score))\n",
    "\n",
    "\n",
    "def calcuation_error(line_parameters, points, y):\n",
    "    n = points.shape[0]\n",
    "    p = sigmoid(points*line_parameters)   \n",
    "    cross_entropy = -(1/n) * (np.log(p).T * y + np.log(1-p).T * (1-y))\n",
    "    return cross_entropy   \n",
    "\n",
    "def calcuation_error_1(p, y):\n",
    "    \n",
    "    cross_entropy = -(y * np.log(p) + (1 - y) * np.log(1-p))\n",
    "    return cross_entropy"
   ]
  },
  {
   "cell_type": "code",
   "execution_count": 90,
   "id": "81527297",
   "metadata": {},
   "outputs": [
    {
     "name": "stdout",
     "output_type": "stream",
     "text": [
      "[[0.31787835]]\n",
      "--------another way of code---------\n",
      "[[6.35756704]]\n"
     ]
    }
   ],
   "source": [
    "n_pts = 10\n",
    "\n",
    "np.random.seed(0)\n",
    "#random_x1_values = np.random.normal(10, 2, n_pts)\n",
    "#random_x2_values = np.random.normal(12, 2, n_pts)\n",
    "#top_region = np.array([random_x1_values, random_x2_values]).T\n",
    "#top_region\n",
    "#top_range.shape\n",
    "\n",
    "bias = np.ones(n_pts)\n",
    "\n",
    "top_region = np.array([np.random.normal(10, 2, n_pts), np.random.normal(12, 2, n_pts), bias]).T\n",
    "bottom_region = np.array([np.random.normal(5, 2, n_pts), np.random.normal(6, 2, n_pts), bias]).T\n",
    "\n",
    "all_points = np.vstack((top_region, bottom_region))\n",
    "#all_points.shape\n",
    "\n",
    "#make a random line\n",
    "w1 = -0.2\n",
    "w2 = -0.35\n",
    "b = 3.5\n",
    "\n",
    "line_parameters = np.matrix([w1, w2, b]).T\n",
    "#print(line_parameters)\n",
    "\n",
    "x1 = np.array([bottom_region[:, 0].min(), top_region[:, 0].max()])\n",
    "# formula: w1.x1 + w2.x2 + b = 0\n",
    "# Y = M.X + b\n",
    "x2 = -b / w2 + x1 * (-w1 / w2)\n",
    "#print(x1, x2)\n",
    "\n",
    "\"\"\" \n",
    "line_parameters has been transposed for matrix multiplication \n",
    "where number of columns from all_points matrix = number of rows from line_parameters matrix\n",
    "\"\"\" \n",
    "\n",
    "#print(all_points.shape)\n",
    "#print(line_parameters.shape)\n",
    "\n",
    "\n",
    "y = np.array([np.zeros(n_pts), np.ones(n_pts)]).reshape(n_pts*2, 1)\n",
    "\n",
    "result = calcuation_error(line_parameters, all_points, y)\n",
    "print(result)\n",
    "\n",
    "print(\"--------another way of code---------\")\n",
    "\n",
    "\n",
    "linear_combination = all_points * line_parameters\n",
    "\n",
    "probabilities = sigmoid(linear_combination)\n",
    "#print(probabilities) \n",
    "\n",
    "prediction = (np.asarray(probabilities)).flatten()\n",
    "target = (np.asarray(y)).flatten()\n",
    "\n",
    "#\n",
    "result1 = calcuation_error_1(probabilities, target)\n",
    "print(result1)\n",
    "\n"
   ]
  },
  {
   "cell_type": "code",
   "execution_count": 86,
   "id": "8326d7cb",
   "metadata": {},
   "outputs": [
    {
     "data": {
      "image/png": "[encoded data removed]",
      "text/plain": [
       "<Figure size 360x360 with 1 Axes>"
      ]
     },
     "metadata": {
      "needs_background": "light"
     },
     "output_type": "display_data"
    }
   ],
   "source": [
    "\n",
    "_, ax = plt.subplots(figsize=(5,5))\n",
    "ax.scatter(top_region[:, 0], top_region[:, 1], color='r')\n",
    "ax.scatter(bottom_region[:, 0], bottom_region[:, 1], color='b')\n",
    "draw(x1, x2)\n",
    "plt.show()\n"
   ]
  },
  {
   "cell_type": "code",
   "execution_count": null,
   "id": "1fd534be",
   "metadata": {},
   "outputs": [],
   "source": []
  }
 ],
 "metadata": {
  "kernelspec": {
   "display_name": "Python 3",
   "language": "python",
   "name": "python3"
  },
  "language_info": {
   "codemirror_mode": {
    "name": "ipython",
    "version": 3
   },
   "file_extension": ".py",
   "mimetype": "text/x-python",
   "name": "python",
   "nbconvert_exporter": "python",
   "pygments_lexer": "ipython3",
   "version": "3.8.8"
  }
 },
 "nbformat": 4,
 "nbformat_minor": 5
}
