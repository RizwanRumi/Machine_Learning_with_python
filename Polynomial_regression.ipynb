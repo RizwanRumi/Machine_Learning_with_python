{
 "cells": [
  {
   "cell_type": "code",
   "execution_count": 1,
   "id": "6efff15a",
   "metadata": {},
   "outputs": [],
   "source": [
    "import numpy as np\n",
    "import matplotlib.pyplot as plt"
   ]
  },
  {
   "cell_type": "code",
   "execution_count": 2,
   "id": "928862e7",
   "metadata": {},
   "outputs": [],
   "source": [
    "np.random.seed(0)"
   ]
  },
  {
   "cell_type": "code",
   "execution_count": 3,
   "id": "27efe41c",
   "metadata": {},
   "outputs": [
    {
     "name": "stdout",
     "output_type": "stream",
     "text": [
      "(20,)\n"
     ]
    }
   ],
   "source": [
    "x = 2 -3 * np.random.normal(0, 1, 20)\n",
    "print(x.shape)"
   ]
  },
  {
   "cell_type": "code",
   "execution_count": 4,
   "id": "58a3379a",
   "metadata": {},
   "outputs": [
    {
     "name": "stdout",
     "output_type": "stream",
     "text": [
      "[ -53.46841187   -1.26255958   -3.50619264 -107.22320039  -49.13195018\n",
      "    8.90122353   -5.46624176   -5.76263165   -0.60058568    1.2226779\n",
      "   -3.95663744  -21.98989452   -6.11812275  -10.46843964   -4.11955719\n",
      "   -3.02941914  -21.76152272   -1.51295226   -4.75491157    6.50723268]\n"
     ]
    }
   ],
   "source": [
    "y = x - 2 * (x ** 2) + 0.5 * (x ** 3) + np.random.normal(-3, 3, 20)\n",
    "print(y)"
   ]
  },
  {
   "cell_type": "code",
   "execution_count": 5,
   "id": "60c4866c",
   "metadata": {},
   "outputs": [
    {
     "data": {
      "image/png": "[encoded data removed]",
      "text/plain": [
       "<Figure size 432x288 with 1 Axes>"
      ]
     },
     "metadata": {
      "needs_background": "light"
     },
     "output_type": "display_data"
    }
   ],
   "source": [
    "plt.scatter(x,y, s=10)\n",
    "plt.show()"
   ]
  },
  {
   "cell_type": "markdown",
   "id": "a00c6442",
   "metadata": {},
   "source": [
    "# Apply a linear regression model to this dataset"
   ]
  },
  {
   "cell_type": "code",
   "execution_count": 6,
   "id": "c4cd041c",
   "metadata": {},
   "outputs": [],
   "source": [
    "from sklearn.linear_model import LinearRegression"
   ]
  },
  {
   "cell_type": "code",
   "execution_count": 7,
   "id": "e2a0c023",
   "metadata": {},
   "outputs": [
    {
     "name": "stdout",
     "output_type": "stream",
     "text": [
      "(20, 1)\n",
      "(20, 1)\n"
     ]
    }
   ],
   "source": [
    "# transforming the data to include another axis\n",
    "x = x[:, np.newaxis]\n",
    "print(x.shape)\n",
    "y = y[:, np.newaxis]\n",
    "print(y.shape)"
   ]
  },
  {
   "cell_type": "code",
   "execution_count": 8,
   "id": "57d06658",
   "metadata": {},
   "outputs": [],
   "source": [
    "model = LinearRegression()"
   ]
  },
  {
   "cell_type": "code",
   "execution_count": 9,
   "id": "56d32e22",
   "metadata": {},
   "outputs": [
    {
     "data": {
      "text/plain": [
       "LinearRegression()"
      ]
     },
     "execution_count": 9,
     "metadata": {},
     "output_type": "execute_result"
    }
   ],
   "source": [
    "model.fit(x, y)"
   ]
  },
  {
   "cell_type": "code",
   "execution_count": 10,
   "id": "4395ed93",
   "metadata": {},
   "outputs": [],
   "source": [
    "y_pred = model.predict(x)\n",
    "#print(y_pred)"
   ]
  },
  {
   "cell_type": "code",
   "execution_count": 11,
   "id": "5acee8cf",
   "metadata": {
    "scrolled": true
   },
   "outputs": [
    {
     "data": {
      "image/png": "[encoded data removed]",
      "text/plain": [
       "<Figure size 432x288 with 1 Axes>"
      ]
     },
     "metadata": {
      "needs_background": "light"
     },
     "output_type": "display_data"
    }
   ],
   "source": [
    "plt.scatter(x, y, s=10)\n",
    "plt.plot(x, y_pred, color='r')\n",
    "plt.show()"
   ]
  },
  {
   "cell_type": "markdown",
   "id": "f50c99b9",
   "metadata": {},
   "source": [
    "# Evaluating the performance of the model"
   ]
  },
  {
   "cell_type": "code",
   "execution_count": 12,
   "id": "37beaac9",
   "metadata": {},
   "outputs": [],
   "source": [
    "from sklearn.metrics import mean_squared_error, r2_score"
   ]
  },
  {
   "cell_type": "code",
   "execution_count": 13,
   "id": "0233a613",
   "metadata": {},
   "outputs": [
    {
     "name": "stdout",
     "output_type": "stream",
     "text": [
      "5061.443589686075\n",
      "RMSE score:  15.908242501429998\n",
      "R^2 score:  0.6386750054827146\n",
      "-------------------------\n",
      "sklearn RMSE score:  15.908242501429998\n",
      "sklearn R^2 score:  0.6386750054827146\n",
      "\n",
      "The model is underfitting\n"
     ]
    }
   ],
   "source": [
    "#mean squared error\n",
    "mse = np.sum((y_pred - y)**2)\n",
    "print(mse)\n",
    "# root mean squared error\n",
    "m = len(y)\n",
    "#print(m)\n",
    "rmse = np.sqrt(mse/m)\n",
    "print(\"RMSE score: \", rmse)\n",
    "\n",
    "# sum of square of residuals\n",
    "ssr = np.sum((y_pred - y)**2)\n",
    "# total sum of squares\n",
    "sst = np.sum((y - np.mean(y))**2)\n",
    "# R^2 score\n",
    "r_square = 1 - (ssr/sst)\n",
    "print(\"R^2 score: \", r_square)\n",
    "\n",
    "print(\"-------------------------\")\n",
    "\n",
    "#cross check with sklearn library\n",
    "sk_mse = mean_squared_error(y, y_pred)\n",
    "sk_rmse = np.sqrt(sk_mse)\n",
    "r2 = r2_score(y, y_pred)\n",
    "print(\"sklearn RMSE score: \", sk_rmse)\n",
    "print(\"sklearn R^2 score: \", r2)\n",
    "\n",
    "print(\"\\nThe model is underfitting\")"
   ]
  },
  {
   "cell_type": "markdown",
   "id": "a6705aac",
   "metadata": {},
   "source": [
    "### To overcome under-fitting, we need to increase the complexity of the model and use PolynomialFeature class to convert the original features into their higher order terms."
   ]
  },
  {
   "cell_type": "code",
   "execution_count": 14,
   "id": "53b62358",
   "metadata": {},
   "outputs": [],
   "source": [
    "from sklearn.preprocessing import PolynomialFeatures"
   ]
  },
  {
   "cell_type": "code",
   "execution_count": 15,
   "id": "80d1c10d",
   "metadata": {},
   "outputs": [],
   "source": [
    "# Here change the degree to get the result, degree 3 predict the good result\n",
    "# check with degree 20, the curve will be overfitting\n",
    "polynomial_features = PolynomialFeatures(degree=3)\n",
    "x_poly = polynomial_features.fit_transform(x)"
   ]
  },
  {
   "cell_type": "code",
   "execution_count": 16,
   "id": "8609e3eb",
   "metadata": {},
   "outputs": [
    {
     "data": {
      "text/plain": [
       "LinearRegression()"
      ]
     },
     "execution_count": 16,
     "metadata": {},
     "output_type": "execute_result"
    }
   ],
   "source": [
    "poly_model = LinearRegression()\n",
    "poly_model.fit(x_poly, y)"
   ]
  },
  {
   "cell_type": "code",
   "execution_count": 17,
   "id": "1a17b3c8",
   "metadata": {},
   "outputs": [],
   "source": [
    "y_poly_pred = poly_model.predict(x_poly)\n",
    "\n",
    "#print(y_poly_pred)"
   ]
  },
  {
   "cell_type": "code",
   "execution_count": 18,
   "id": "ca0b131c",
   "metadata": {},
   "outputs": [
    {
     "name": "stdout",
     "output_type": "stream",
     "text": [
      "Model Evaluation\n",
      "RMSE score:  3.449895507408725\n",
      "R^2 score:  0.9830071790386679\n"
     ]
    }
   ],
   "source": [
    "print(\"Model Evaluation\")\n",
    "rmse = np.sqrt(mean_squared_error(y,y_poly_pred))\n",
    "r2 = r2_score(y,y_poly_pred)\n",
    "print(\"RMSE score: \", rmse)\n",
    "print(\"R^2 score: \", r2)"
   ]
  },
  {
   "cell_type": "code",
   "execution_count": 19,
   "id": "fa4f3de0",
   "metadata": {},
   "outputs": [
    {
     "data": {
      "image/png": "[encoded data removed]",
      "text/plain": [
       "<Figure size 432x288 with 1 Axes>"
      ]
     },
     "metadata": {
      "needs_background": "light"
     },
     "output_type": "display_data"
    }
   ],
   "source": [
    "plt.scatter(x, y, s=10)\n",
    "# sort the values of x before line plot\n",
    "sorted_zip = sorted(zip(x,y_poly_pred))\n",
    "x, y_poly_pred = zip(*sorted_zip)\n",
    "plt.plot(x, y_poly_pred, color='m')\n",
    "plt.show()"
   ]
  }
 ],
 "metadata": {
  "kernelspec": {
   "display_name": "Python 3 (ipykernel)",
   "language": "python",
   "name": "python3"
  },
  "language_info": {
   "codemirror_mode": {
    "name": "ipython",
    "version": 3
   },
   "file_extension": ".py",
   "mimetype": "text/x-python",
   "name": "python",
   "nbconvert_exporter": "python",
   "pygments_lexer": "ipython3",
   "version": "3.9.0"
  }
 },
 "nbformat": 4,
 "nbformat_minor": 5
}
