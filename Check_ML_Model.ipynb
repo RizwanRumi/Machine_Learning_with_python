{
 "cells": [
  {
   "cell_type": "code",
   "execution_count": 3,
   "id": "e92c16c0",
   "metadata": {},
   "outputs": [],
   "source": [
    "import pickle as pk"
   ]
  },
  {
   "cell_type": "code",
   "execution_count": 4,
   "id": "9b35f8c6",
   "metadata": {},
   "outputs": [],
   "source": [
    "# file read\n",
    "reg2 = pk.load(open('My_LR1','rb')) "
   ]
  },
  {
   "cell_type": "code",
   "execution_count": 5,
   "id": "58cd7498",
   "metadata": {},
   "outputs": [
    {
     "data": {
      "text/plain": [
       "array([24697.44081807])"
      ]
     },
     "execution_count": 5,
     "metadata": {},
     "output_type": "execute_result"
    }
   ],
   "source": [
    "reg2.predict([[1700]])"
   ]
  },
  {
   "cell_type": "code",
   "execution_count": null,
   "id": "8830ace0",
   "metadata": {},
   "outputs": [],
   "source": []
  }
 ],
 "metadata": {
  "kernelspec": {
   "display_name": "Python 3",
   "language": "python",
   "name": "python3"
  },
  "language_info": {
   "codemirror_mode": {
    "name": "ipython",
    "version": 3
   },
   "file_extension": ".py",
   "mimetype": "text/x-python",
   "name": "python",
   "nbconvert_exporter": "python",
   "pygments_lexer": "ipython3",
   "version": "3.8.8"
  }
 },
 "nbformat": 4,
 "nbformat_minor": 5
}
